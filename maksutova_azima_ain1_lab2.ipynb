{
 "cells": [
  {
   "attachments": {},
   "cell_type": "markdown",
   "id": "85040543-d11a-4a93-88e2-9e79f03411cb",
   "metadata": {
    "panel-layout": {
     "height": 51.13750076293945,
     "visible": true,
     "width": 100
    }
   },
   "source": [
    "# Лабараторная работа №2\n",
    "## Работа с библиотеками NumPy, pandas\n",
    "* Документация [NumPy] <A Href=\"https://numpy.org/doc/\">Прочитать -></A>\n",
    "* Документация [Pandas] <A Href=\"https://pandas.pydata.org/docs/index.html\">Прочитать -></A>"
   ]
  },
  {
   "cell_type": "markdown",
   "id": "d809c0d3-5af1-48e1-833e-b8204cd39fa5",
   "metadata": {},
   "source": [
    "<img src='https://miro.medium.com/v2/resize:fit:1200/1*Rx0tab3XiwFQfuKgFuSlLA.png' width='500'>"
   ]
  },
  {
   "cell_type": "markdown",
   "id": "24215123-727b-4f87-aea1-55f73c583d54",
   "metadata": {},
   "source": [
    "<h3 style=\"margin-bottom: 0;\">Задание №1. Библиотека NumPy</h3>\n",
    "<h3 style=\"margin-top: 0;\">1.Создайте одномерный массив my_array, в котором по порядку все числа до 100, кратные 5:</h3\n"
   ]
  },
  {
   "cell_type": "code",
   "execution_count": 19,
   "id": "cefa2378-0d90-44ec-afb5-eb918a10ae11",
   "metadata": {},
   "outputs": [
    {
     "data": {
      "text/plain": [
       "array([  0,   5,  10,  15,  20,  25,  30,  35,  40,  45,  50,  55,  60,\n",
       "        65,  70,  75,  80,  85,  90,  95, 100])"
      ]
     },
     "execution_count": 19,
     "metadata": {},
     "output_type": "execute_result"
    }
   ],
   "source": [
    "import numpy as np\n",
    "my_array = np.arange(0, 101, 5)\n",
    "my_array"
   ]
  },
  {
   "cell_type": "markdown",
   "id": "0693bba4-94df-469d-8a0c-062c50e943ff",
   "metadata": {},
   "source": [
    "<h3 style=\"margin-top: 0;\">2.Из полученного массива получить массив с кратными 10 числами</h3>\n"
   ]
  },
  {
   "cell_type": "code",
   "execution_count": 28,
   "id": "e163cbe8-57c2-4564-b2af-534dc72a1404",
   "metadata": {},
   "outputs": [
    {
     "name": "stdout",
     "output_type": "stream",
     "text": [
      "[  0  10  20  30  40  50  60  70  80  90 100]\n"
     ]
    }
   ],
   "source": [
    "# Фильтруем массив, чтобы оставить только числа, кратные 10\n",
    "my_array_multiple_of_10 = my_array[my_array % 10 == 0]\n",
    "\n",
    "print(my_array_multiple_of_10)"
   ]
  },
  {
   "cell_type": "markdown",
   "id": "01ad7118-15a5-4b91-9ea6-b6d8df391d39",
   "metadata": {},
   "source": [
    "<h3 style=\"margin-top: 0;\">3.Получить двумерный массив с двумя столбцами</h3>"
   ]
  },
  {
   "cell_type": "code",
   "execution_count": 43,
   "id": "30c7e112-5a15-451b-a852-52613907a525",
   "metadata": {},
   "outputs": [
    {
     "name": "stdout",
     "output_type": "stream",
     "text": [
      "[[ 0 10]\n",
      " [20 30]\n",
      " [40 50]\n",
      " [60 70]\n",
      " [80 90]]\n"
     ]
    }
   ],
   "source": [
    "import numpy as np\n",
    "my_array = np.arange(0, 100, 5)\n",
    "\n",
    "my_array_multiple_of_10 = my_array[my_array % 10 == 0]\n",
    "\n",
    "my_array_2d = my_array_multiple_of_10.reshape(-1, 2)\n",
    "\n",
    "print(my_array_2d)"
   ]
  },
  {
   "cell_type": "markdown",
   "id": "08b1f649-26f8-4267-8c1e-fc5de3d22d90",
   "metadata": {},
   "source": [
    "<h3 style=\"margin-top: 0;\">4.Получите набор my_second_array, в котором все элементы меньше предыдущего исходного на 5</h3>"
   ]
  },
  {
   "cell_type": "code",
   "execution_count": 62,
   "id": "c976742e-f7e3-4fef-bb5e-dd076df209b1",
   "metadata": {},
   "outputs": [
    {
     "name": "stdout",
     "output_type": "stream",
     "text": [
      "[-5  0  5 10 15 20 25 30 35 40 45 50 55 60 65 70 75 80 85 90]\n"
     ]
    }
   ],
   "source": [
    "import numpy as np\n",
    "my_array = np.arange(0, 100, 5)\n",
    "my_second_array = my_array - 5\n",
    "print(my_second_array)"
   ]
  },
  {
   "cell_type": "markdown",
   "id": "d6322c76",
   "metadata": {},
   "source": [
    "<h3 style=\"margin-top: 0;\">5.Соедините массивы, полученные в п. 3.1 и 4.1, горизонтально. Используйте .T для транспонирования матрицы.</h3>"
   ]
  },
  {
   "cell_type": "code",
   "execution_count": 68,
   "id": "a1f712fe",
   "metadata": {},
   "outputs": [
    {
     "name": "stdout",
     "output_type": "stream",
     "text": [
      "[[ 0 20 40 60 80]\n",
      " [10 30 50 70 90]\n",
      " [-5  0  5 10 15]]\n"
     ]
    }
   ],
   "source": [
    "import numpy as np\n",
    "my_array = np.arange(0, 100, 5)\n",
    "my_array_multiple_of_10 = my_array[my_array % 10 == 0]\n",
    "my_array_2d = my_array_multiple_of_10.reshape(-1, 2)\n",
    "my_second_array = my_array - 5\n",
    "\n",
    "combined_array = np.hstack(\n",
    "    (my_array_2d, my_second_array[:my_array_2d.shape[0]].reshape(-1, 1)))\n",
    "\n",
    "\n",
    "transposed_array = combined_array.T\n",
    "\n",
    "\n",
    "print(transposed_array)"
   ]
  },
  {
   "cell_type": "markdown",
   "id": "3d59ef75",
   "metadata": {},
   "source": [
    "<h3 style=\"margin-top: 0;\">6.Разделите 2 и 3 строку на 4 верхних строки my_array. Используйте .T для транспонирования матрицы</h3>"
   ]
  },
  {
   "cell_type": "code",
   "execution_count": 80,
   "id": "8fd892d1",
   "metadata": {},
   "outputs": [
    {
     "name": "stdout",
     "output_type": "stream",
     "text": [
      "Деление 2-й строки на верхние 4 элемента: [0.         6.         5.         4.66666667]\n",
      "Деление 3-й строки на верхние 4 элемента: [0.         0.         0.5        0.66666667]\n"
     ]
    },
    {
     "name": "stderr",
     "output_type": "stream",
     "text": [
      "C:\\Users\\User\\AppData\\Local\\Temp\\ipykernel_6292\\1977128867.py:30: RuntimeWarning: divide by zero encountered in divide\n",
      "  upper_4_elements != 0, second_row[:4] / upper_4_elements, 0)\n",
      "C:\\Users\\User\\AppData\\Local\\Temp\\ipykernel_6292\\1977128867.py:32: RuntimeWarning: divide by zero encountered in divide\n",
      "  third_row[:4] / upper_4_elements, 0)\n"
     ]
    }
   ],
   "source": [
    "import numpy as np\n",
    "\n",
    "\n",
    "my_array = np.arange(0, 100, 5)\n",
    "my_array_multiple_of_10 = my_array[my_array % 10 == 0]\n",
    "my_array_2d = my_array_multiple_of_10.reshape(-1, 2)\n",
    "\n",
    "my_second_array = my_array - 5\n",
    "\n",
    "\n",
    "my_second_array_trimmed = my_second_array[:my_array_2d.shape[0]]\n",
    "\n",
    "\n",
    "combined_array = np.hstack(\n",
    "    (my_array_2d, my_second_array_trimmed.reshape(-1, 1)))\n",
    "\n",
    "\n",
    "transposed_array = combined_array.T\n",
    "\n",
    "\n",
    "upper_4_elements = my_array[:4]\n",
    "\n",
    "\n",
    "second_row = transposed_array[1]\n",
    "third_row = transposed_array[2]\n",
    "\n",
    "\n",
    "result_second_row = np.where(\n",
    "    upper_4_elements != 0, second_row[:4] / upper_4_elements, 0)\n",
    "result_third_row = np.where(upper_4_elements != 0,\n",
    "                            third_row[:4] / upper_4_elements, 0)\n",
    "\n",
    "print(\"Деление 2-й строки на верхние 4 элемента:\", result_second_row)\n",
    "print(\"Деление 3-й строки на верхние 4 элемента:\", result_third_row)"
   ]
  },
  {
   "cell_type": "markdown",
   "id": "4b4794f3",
   "metadata": {},
   "source": [
    "<h3 style=\"margin-top: 0;\">7.Оставить только те значения, которые не изменились после деления</h3>"
   ]
  },
  {
   "cell_type": "code",
   "execution_count": 92,
   "id": "a138c02f",
   "metadata": {},
   "outputs": [
    {
     "name": "stdout",
     "output_type": "stream",
     "text": [
      "Неизмененные значения 2-й строки: []\n",
      "Неизмененные значения 3-й строки: [0]\n"
     ]
    },
    {
     "name": "stderr",
     "output_type": "stream",
     "text": [
      "C:\\Users\\User\\AppData\\Local\\Temp\\ipykernel_6292\\2378011442.py:28: RuntimeWarning: divide by zero encountered in divide\n",
      "  upper_4_elements != 0, second_row[:4] / upper_4_elements, 0)\n",
      "C:\\Users\\User\\AppData\\Local\\Temp\\ipykernel_6292\\2378011442.py:30: RuntimeWarning: divide by zero encountered in divide\n",
      "  third_row[:4] / upper_4_elements, 0)\n"
     ]
    }
   ],
   "source": [
    "import numpy as np\n",
    "\n",
    "# Создаем массив с числами до 100, кратными 5\n",
    "my_array = np.arange(0, 100, 5)\n",
    "\n",
    "# Фильтруем для получения чисел кратных 10 и преобразуем в двумерный массив\n",
    "my_array_multiple_of_10 = my_array[my_array % 10 == 0]\n",
    "my_array_2d = my_array_multiple_of_10.reshape(-1, 2)\n",
    "\n",
    "# Создаем массив, уменьшая каждый элемент на 5\n",
    "my_second_array = my_array - 5\n",
    "my_second_array_trimmed = my_second_array[:my_array_2d.shape[0]]\n",
    "\n",
    "# Объединяем массивы и транспонируем\n",
    "combined_array = np.hstack(\n",
    "    (my_array_2d, my_second_array_trimmed.reshape(-1, 1)))\n",
    "transposed_array = combined_array.T\n",
    "\n",
    "# Берем верхние 4 элемента из исходного массива\n",
    "upper_4_elements = my_array[:4]\n",
    "\n",
    "# Извлекаем 2-ю и 3-ю строки из транспонированного массива\n",
    "second_row = transposed_array[1]\n",
    "third_row = transposed_array[2]\n",
    "\n",
    "# Выполняем деление с обработкой деления на ноль\n",
    "result_second_row = np.where(\n",
    "    upper_4_elements != 0, second_row[:4] / upper_4_elements, 0)\n",
    "result_third_row = np.where(upper_4_elements != 0,\n",
    "                            third_row[:4] / upper_4_elements, 0)\n",
    "\n",
    "# Оставляем только те значения, которые не изменились после деления\n",
    "unchanged_second_row = second_row[:4][second_row[:4] == result_second_row]\n",
    "unchanged_third_row = third_row[:4][third_row[:4] == result_third_row]\n",
    "\n",
    "# Выводим результат\n",
    "print(\"Неизмененные значения 2-й строки:\", unchanged_second_row)\n",
    "print(\"Неизмененные значения 3-й строки:\", unchanged_third_row)"
   ]
  },
  {
   "cell_type": "markdown",
   "id": "24628640",
   "metadata": {},
   "source": [
    "<h3 style=\"margin-top: 0;\">8.Снова получить трехстрочный двумерный массив и поменять местами первую и третью строки</h3>"
   ]
  },
  {
   "cell_type": "code",
   "execution_count": 98,
   "id": "61e62867",
   "metadata": {},
   "outputs": [
    {
     "name": "stdout",
     "output_type": "stream",
     "text": [
      "Массив после замены первой и третьей строк:\n",
      "[[-5  0  5 10 15]\n",
      " [10 30 50 70 90]\n",
      " [ 0 20 40 60 80]]\n"
     ]
    }
   ],
   "source": [
    "import numpy as np\n",
    "\n",
    "# Создаем массив с числами до 100, кратными 5\n",
    "my_array = np.arange(0, 100, 5)\n",
    "\n",
    "# Фильтруем для получения чисел кратных 10 и преобразуем в двумерный массив\n",
    "my_array_multiple_of_10 = my_array[my_array % 10 == 0]\n",
    "my_array_2d = my_array_multiple_of_10.reshape(-1, 2)\n",
    "\n",
    "# Создаем массив, уменьшая каждый элемент на 5\n",
    "my_second_array = my_array - 5\n",
    "my_second_array_trimmed = my_second_array[:my_array_2d.shape[0]]\n",
    "\n",
    "# Объединяем массивы и транспонируем\n",
    "combined_array = np.hstack(\n",
    "    (my_array_2d, my_second_array_trimmed.reshape(-1, 1)))\n",
    "transposed_array = combined_array.T\n",
    "\n",
    "# Для создания трехстрочного двумерного массива\n",
    "three_row_array = transposed_array[:3]  # Берем только первые три строки\n",
    "\n",
    "# Меняем местами первую и третью строки\n",
    "three_row_array[[0, 2]] = three_row_array[[2, 0]]\n",
    "\n",
    "# Выводим результат\n",
    "print(\"Массив после замены первой и третьей строк:\")\n",
    "print(three_row_array)"
   ]
  },
  {
   "cell_type": "markdown",
   "id": "fa6a7ac9",
   "metadata": {},
   "source": [
    "<h3 style=\"margin-top: 0;\">9.Получить среднее, медиану и стандартное отклонение для каждой строки, используя команды np.mean(), np.median(), np.std().</h3>"
   ]
  },
  {
   "cell_type": "code",
   "execution_count": 99,
   "id": "bc5794b3",
   "metadata": {},
   "outputs": [
    {
     "name": "stdout",
     "output_type": "stream",
     "text": [
      "Средние значения для каждой строки: [ 5. 50. 40.]\n",
      "Медианы для каждой строки: [ 5. 50. 40.]\n",
      "Стандартные отклонения для каждой строки: [ 7.07106781 28.28427125 28.28427125]\n"
     ]
    }
   ],
   "source": [
    "import numpy as np\n",
    "\n",
    "# Создаем массив с числами до 100, кратными 5\n",
    "my_array = np.arange(0, 100, 5)\n",
    "\n",
    "# Фильтруем для получения чисел кратных 10 и преобразуем в двумерный массив\n",
    "my_array_multiple_of_10 = my_array[my_array % 10 == 0]\n",
    "my_array_2d = my_array_multiple_of_10.reshape(-1, 2)\n",
    "\n",
    "# Создаем массив, уменьшая каждый элемент на 5\n",
    "my_second_array = my_array - 5\n",
    "my_second_array_trimmed = my_second_array[:my_array_2d.shape[0]]\n",
    "\n",
    "# Объединяем массивы и транспонируем\n",
    "combined_array = np.hstack(\n",
    "    (my_array_2d, my_second_array_trimmed.reshape(-1, 1)))\n",
    "transposed_array = combined_array.T\n",
    "\n",
    "# Получаем трехстрочный массив и меняем местами первую и третью строки\n",
    "three_row_array = transposed_array[:3]\n",
    "three_row_array[[0, 2]] = three_row_array[[2, 0]]\n",
    "\n",
    "# Вычисляем среднее, медиану и стандартное отклонение для каждой строки\n",
    "means = np.mean(three_row_array, axis=1)\n",
    "medians = np.median(three_row_array, axis=1)\n",
    "std_devs = np.std(three_row_array, axis=1)\n",
    "\n",
    "# Выводим результаты\n",
    "print(\"Средние значения для каждой строки:\", means)\n",
    "print(\"Медианы для каждой строки:\", medians)\n",
    "print(\"Стандартные отклонения для каждой строки:\", std_devs)"
   ]
  },
  {
   "cell_type": "markdown",
   "id": "06bfeb8e",
   "metadata": {},
   "source": [
    "<h3 style=\"margin-top: 0;\">10. Сделать нормализацию на максимальное значение вдоль строк, поделив каждый элемент массива на max() вдоль строк.</h3>"
   ]
  },
  {
   "cell_type": "code",
   "execution_count": 100,
   "id": "c11c7894",
   "metadata": {},
   "outputs": [
    {
     "name": "stdout",
     "output_type": "stream",
     "text": [
      "Нормализованный массив:\n",
      "[[-0.33333333  0.          0.33333333  0.66666667  1.        ]\n",
      " [ 0.11111111  0.33333333  0.55555556  0.77777778  1.        ]\n",
      " [ 0.          0.25        0.5         0.75        1.        ]]\n"
     ]
    }
   ],
   "source": [
    "import numpy as np\n",
    "\n",
    "# Создаем массив с числами до 100, кратными 5\n",
    "my_array = np.arange(0, 100, 5)\n",
    "\n",
    "# Фильтруем для получения чисел кратных 10 и преобразуем в двумерный массив\n",
    "my_array_multiple_of_10 = my_array[my_array % 10 == 0]\n",
    "my_array_2d = my_array_multiple_of_10.reshape(-1, 2)\n",
    "\n",
    "# Создаем массив, уменьшая каждый элемент на 5\n",
    "my_second_array = my_array - 5\n",
    "my_second_array_trimmed = my_second_array[:my_array_2d.shape[0]]\n",
    "\n",
    "# Объединяем массивы и транспонируем\n",
    "combined_array = np.hstack(\n",
    "    (my_array_2d, my_second_array_trimmed.reshape(-1, 1)))\n",
    "transposed_array = combined_array.T\n",
    "\n",
    "# Получаем трехстрочный массив и меняем местами первую и третью строки\n",
    "three_row_array = transposed_array[:3]\n",
    "three_row_array[[0, 2]] = three_row_array[[2, 0]]\n",
    "\n",
    "# Нормализация на максимальное значение вдоль строк\n",
    "# Получаем максимальные значения\n",
    "max_values = np.max(three_row_array, axis=1, keepdims=True)\n",
    "# Делим каждый элемент на максимальное значение\n",
    "normalized_array = three_row_array / max_values\n",
    "\n",
    "# Выводим результат\n",
    "print(\"Нормализованный массив:\")\n",
    "print(normalized_array)"
   ]
  },
  {
   "cell_type": "markdown",
   "id": "5efe2556",
   "metadata": {},
   "source": [
    "<h3 style=\"margin-bottom: 0;\">Задание №2. Библиотека Pandas</h3>\n",
    "<h3 style=\"margin-top: 0;\">1.Импортируйте данные из файла “Global Population Trends(2016-2022).csv”. Описание данных смотрите ниже.\n",
    "Изучите полученные данные:\n",
    "</h3\n"
   ]
  },
  {
   "cell_type": "code",
   "execution_count": 105,
   "id": "4da52a52",
   "metadata": {},
   "outputs": [
    {
     "data": {
      "text/html": [
       "<div>\n",
       "<style scoped>\n",
       "    .dataframe tbody tr th:only-of-type {\n",
       "        vertical-align: middle;\n",
       "    }\n",
       "\n",
       "    .dataframe tbody tr th {\n",
       "        vertical-align: top;\n",
       "    }\n",
       "\n",
       "    .dataframe thead th {\n",
       "        text-align: right;\n",
       "    }\n",
       "</style>\n",
       "<table border=\"1\" class=\"dataframe\">\n",
       "  <thead>\n",
       "    <tr style=\"text-align: right;\">\n",
       "      <th></th>\n",
       "      <th>Country</th>\n",
       "      <th>Year</th>\n",
       "      <th>Total Population</th>\n",
       "      <th>Urban Population</th>\n",
       "      <th>Rural Population</th>\n",
       "      <th>Population Density</th>\n",
       "      <th>Life Expectancy</th>\n",
       "      <th>Birth Rate</th>\n",
       "      <th>Death Rate</th>\n",
       "      <th>Fertility Rate</th>\n",
       "      <th>Infant Mortality Rate</th>\n",
       "      <th>Growth Rate</th>\n",
       "    </tr>\n",
       "  </thead>\n",
       "  <tbody>\n",
       "    <tr>\n",
       "      <th>0</th>\n",
       "      <td>Afghanistan</td>\n",
       "      <td>2017</td>\n",
       "      <td>-</td>\n",
       "      <td>-</td>\n",
       "      <td>-</td>\n",
       "      <td>55</td>\n",
       "      <td>63.0</td>\n",
       "      <td>37.342</td>\n",
       "      <td>7.027</td>\n",
       "      <td>5.129</td>\n",
       "      <td>49.4</td>\n",
       "      <td>-</td>\n",
       "    </tr>\n",
       "    <tr>\n",
       "      <th>1</th>\n",
       "      <td>Afghanistan</td>\n",
       "      <td>2018</td>\n",
       "      <td>36,686,784</td>\n",
       "      <td>9,353,296</td>\n",
       "      <td>27,333,488</td>\n",
       "      <td>56</td>\n",
       "      <td>63.0</td>\n",
       "      <td>36.927</td>\n",
       "      <td>6.981</td>\n",
       "      <td>5.002</td>\n",
       "      <td>47.8</td>\n",
       "      <td>3.0</td>\n",
       "    </tr>\n",
       "    <tr>\n",
       "      <th>2</th>\n",
       "      <td>Afghanistan</td>\n",
       "      <td>2019</td>\n",
       "      <td>37,769,499</td>\n",
       "      <td>9,727,157</td>\n",
       "      <td>28,042,342</td>\n",
       "      <td>58</td>\n",
       "      <td>64.0</td>\n",
       "      <td>36.466</td>\n",
       "      <td>6.791</td>\n",
       "      <td>4.87</td>\n",
       "      <td>46.3</td>\n",
       "      <td>3.0</td>\n",
       "    </tr>\n",
       "    <tr>\n",
       "      <th>3</th>\n",
       "      <td>Afghanistan</td>\n",
       "      <td>2020</td>\n",
       "      <td>38,972,230</td>\n",
       "      <td>10,142,913</td>\n",
       "      <td>28,829,317</td>\n",
       "      <td>60</td>\n",
       "      <td>63.0</td>\n",
       "      <td>36.051</td>\n",
       "      <td>7.113</td>\n",
       "      <td>4.75</td>\n",
       "      <td>44.8</td>\n",
       "      <td>3.0</td>\n",
       "    </tr>\n",
       "    <tr>\n",
       "      <th>4</th>\n",
       "      <td>Afghanistan</td>\n",
       "      <td>2021</td>\n",
       "      <td>40,099,462</td>\n",
       "      <td>10,551,772</td>\n",
       "      <td>29,547,690</td>\n",
       "      <td>-</td>\n",
       "      <td>62.0</td>\n",
       "      <td>35.842</td>\n",
       "      <td>7.344</td>\n",
       "      <td>4.643</td>\n",
       "      <td>43.4</td>\n",
       "      <td>3.0</td>\n",
       "    </tr>\n",
       "  </tbody>\n",
       "</table>\n",
       "</div>"
      ],
      "text/plain": [
       "       Country  Year Total Population Urban Population Rural Population  \\\n",
       "0  Afghanistan  2017                -                -                -   \n",
       "1  Afghanistan  2018       36,686,784        9,353,296       27,333,488   \n",
       "2  Afghanistan  2019       37,769,499        9,727,157       28,042,342   \n",
       "3  Afghanistan  2020       38,972,230       10,142,913       28,829,317   \n",
       "4  Afghanistan  2021       40,099,462       10,551,772       29,547,690   \n",
       "\n",
       "  Population Density Life Expectancy  Birth Rate  Death Rate Fertility Rate  \\\n",
       "0                 55            63.0      37.342       7.027          5.129   \n",
       "1                 56            63.0      36.927       6.981          5.002   \n",
       "2                 58            64.0      36.466       6.791           4.87   \n",
       "3                 60            63.0      36.051       7.113           4.75   \n",
       "4                  -            62.0      35.842       7.344          4.643   \n",
       "\n",
       "  Infant Mortality Rate Growth Rate  \n",
       "0                  49.4           -  \n",
       "1                  47.8         3.0  \n",
       "2                  46.3         3.0  \n",
       "3                  44.8         3.0  \n",
       "4                  43.4         3.0  "
      ]
     },
     "execution_count": 105,
     "metadata": {},
     "output_type": "execute_result"
    }
   ],
   "source": [
    "import pandas as pd\n",
    "df = pd.read_csv('Global Population Trends(2016-2022).csv')\n",
    "df.head()"
   ]
  },
  {
   "cell_type": "markdown",
   "id": "9ede6b80",
   "metadata": {},
   "source": [
    "<h3 style=\"margin-top: 0;\">2. Определите размерность данного фрейма (shape())</h3>"
   ]
  },
  {
   "cell_type": "code",
   "execution_count": 107,
   "id": "85f59516",
   "metadata": {},
   "outputs": [
    {
     "data": {
      "text/plain": [
       "(1073, 12)"
      ]
     },
     "execution_count": 107,
     "metadata": {},
     "output_type": "execute_result"
    }
   ],
   "source": [
    "df.shape"
   ]
  },
  {
   "cell_type": "markdown",
   "id": "566606ea",
   "metadata": {},
   "source": [
    "<h3 style=\"margin-top: 0;\">3. Выведите название заголовков столбцов фрейма (columns)</h3>"
   ]
  },
  {
   "cell_type": "code",
   "execution_count": 108,
   "id": "ca273ee3",
   "metadata": {},
   "outputs": [
    {
     "data": {
      "text/plain": [
       "Index(['Country', 'Year', 'Total Population', 'Urban Population',\n",
       "       'Rural Population', 'Population Density', 'Life Expectancy',\n",
       "       'Birth Rate', 'Death Rate', 'Fertility Rate', 'Infant Mortality Rate',\n",
       "       'Growth Rate'],\n",
       "      dtype='object')"
      ]
     },
     "execution_count": 108,
     "metadata": {},
     "output_type": "execute_result"
    }
   ],
   "source": [
    "df.columns"
   ]
  },
  {
   "cell_type": "markdown",
   "id": "ddd95981",
   "metadata": {},
   "source": [
    "<h3 style=\"margin-top: 0;\">4. Получите описание всех переменных (полей) (info())</h3>"
   ]
  },
  {
   "cell_type": "code",
   "execution_count": 109,
   "id": "77ed6144",
   "metadata": {},
   "outputs": [
    {
     "data": {
      "text/plain": [
       "<bound method DataFrame.info of           Country  Year Total Population Urban Population Rural Population  \\\n",
       "0     Afghanistan  2017                -                -                -   \n",
       "1     Afghanistan  2018       36,686,784        9,353,296       27,333,488   \n",
       "2     Afghanistan  2019       37,769,499        9,727,157       28,042,342   \n",
       "3     Afghanistan  2020       38,972,230       10,142,913       28,829,317   \n",
       "4     Afghanistan  2021       40,099,462       10,551,772       29,547,690   \n",
       "...           ...   ...              ...              ...              ...   \n",
       "1068     Zimbabwe  2017                -                -                -   \n",
       "1069     Zimbabwe  2018       15,052,184        4,848,158       10,204,026   \n",
       "1070     Zimbabwe  2019       15,354,608        4,945,719       10,408,889   \n",
       "1071     Zimbabwe  2020       15,669,666        5,052,214       10,617,452   \n",
       "1072     Zimbabwe  2021       15,993,524        5,166,388       10,827,136   \n",
       "\n",
       "     Population Density Life Expectancy  Birth Rate  Death Rate  \\\n",
       "0                    55            63.0      37.342       7.027   \n",
       "1                    56            63.0      36.927       6.981   \n",
       "2                    58            64.0      36.466       6.791   \n",
       "3                    60            63.0      36.051       7.113   \n",
       "4                     -            62.0      35.842       7.344   \n",
       "...                 ...             ...         ...         ...   \n",
       "1068                 38            61.0      32.516       8.266   \n",
       "1069                 39            61.0      32.074       7.972   \n",
       "1070                 40            61.0      31.518       8.043   \n",
       "1071                 41            61.0      31.009       8.132   \n",
       "1072                  -            59.0      30.537       9.057   \n",
       "\n",
       "     Fertility Rate Infant Mortality Rate Growth Rate  \n",
       "0             5.129                  49.4           -  \n",
       "1             5.002                  47.8         3.0  \n",
       "2              4.87                  46.3         3.0  \n",
       "3              4.75                  44.8         3.0  \n",
       "4             4.643                  43.4         3.0  \n",
       "...             ...                   ...         ...  \n",
       "1068          3.706                  39.5           -  \n",
       "1069          3.659                  38.0         2.0  \n",
       "1070          3.599                  37.1         2.0  \n",
       "1071          3.545                  36.6         2.0  \n",
       "1072          3.491                  35.7         2.0  \n",
       "\n",
       "[1073 rows x 12 columns]>"
      ]
     },
     "execution_count": 109,
     "metadata": {},
     "output_type": "execute_result"
    }
   ],
   "source": [
    "df.info"
   ]
  },
  {
   "cell_type": "markdown",
   "id": "b89f15a6",
   "metadata": {},
   "source": [
    "<h3 style=\"margin-top: 0;\">5. Удалите строки, не содержащие значения в столбце «Total Population» - “-” </h3>"
   ]
  },
  {
   "cell_type": "code",
   "execution_count": 110,
   "id": "f15a93de",
   "metadata": {},
   "outputs": [
    {
     "data": {
      "text/html": [
       "<div>\n",
       "<style scoped>\n",
       "    .dataframe tbody tr th:only-of-type {\n",
       "        vertical-align: middle;\n",
       "    }\n",
       "\n",
       "    .dataframe tbody tr th {\n",
       "        vertical-align: top;\n",
       "    }\n",
       "\n",
       "    .dataframe thead th {\n",
       "        text-align: right;\n",
       "    }\n",
       "</style>\n",
       "<table border=\"1\" class=\"dataframe\">\n",
       "  <thead>\n",
       "    <tr style=\"text-align: right;\">\n",
       "      <th></th>\n",
       "      <th>Country</th>\n",
       "      <th>Year</th>\n",
       "      <th>Total Population</th>\n",
       "      <th>Urban Population</th>\n",
       "      <th>Rural Population</th>\n",
       "      <th>Population Density</th>\n",
       "      <th>Life Expectancy</th>\n",
       "      <th>Birth Rate</th>\n",
       "      <th>Death Rate</th>\n",
       "      <th>Fertility Rate</th>\n",
       "      <th>Infant Mortality Rate</th>\n",
       "      <th>Growth Rate</th>\n",
       "    </tr>\n",
       "  </thead>\n",
       "  <tbody>\n",
       "    <tr>\n",
       "      <th>1</th>\n",
       "      <td>Afghanistan</td>\n",
       "      <td>2018</td>\n",
       "      <td>36,686,784</td>\n",
       "      <td>9,353,296</td>\n",
       "      <td>27,333,488</td>\n",
       "      <td>56</td>\n",
       "      <td>63.0</td>\n",
       "      <td>36.927</td>\n",
       "      <td>6.981</td>\n",
       "      <td>5.002</td>\n",
       "      <td>47.8</td>\n",
       "      <td>3.0</td>\n",
       "    </tr>\n",
       "    <tr>\n",
       "      <th>2</th>\n",
       "      <td>Afghanistan</td>\n",
       "      <td>2019</td>\n",
       "      <td>37,769,499</td>\n",
       "      <td>9,727,157</td>\n",
       "      <td>28,042,342</td>\n",
       "      <td>58</td>\n",
       "      <td>64.0</td>\n",
       "      <td>36.466</td>\n",
       "      <td>6.791</td>\n",
       "      <td>4.87</td>\n",
       "      <td>46.3</td>\n",
       "      <td>3.0</td>\n",
       "    </tr>\n",
       "    <tr>\n",
       "      <th>3</th>\n",
       "      <td>Afghanistan</td>\n",
       "      <td>2020</td>\n",
       "      <td>38,972,230</td>\n",
       "      <td>10,142,913</td>\n",
       "      <td>28,829,317</td>\n",
       "      <td>60</td>\n",
       "      <td>63.0</td>\n",
       "      <td>36.051</td>\n",
       "      <td>7.113</td>\n",
       "      <td>4.75</td>\n",
       "      <td>44.8</td>\n",
       "      <td>3.0</td>\n",
       "    </tr>\n",
       "    <tr>\n",
       "      <th>4</th>\n",
       "      <td>Afghanistan</td>\n",
       "      <td>2021</td>\n",
       "      <td>40,099,462</td>\n",
       "      <td>10,551,772</td>\n",
       "      <td>29,547,690</td>\n",
       "      <td>-</td>\n",
       "      <td>62.0</td>\n",
       "      <td>35.842</td>\n",
       "      <td>7.344</td>\n",
       "      <td>4.643</td>\n",
       "      <td>43.4</td>\n",
       "      <td>3.0</td>\n",
       "    </tr>\n",
       "    <tr>\n",
       "      <th>6</th>\n",
       "      <td>Albania</td>\n",
       "      <td>2018</td>\n",
       "      <td>2,866,376</td>\n",
       "      <td>1,728,969</td>\n",
       "      <td>1,137,407</td>\n",
       "      <td>105</td>\n",
       "      <td>79.0</td>\n",
       "      <td>10.517</td>\n",
       "      <td>8.308</td>\n",
       "      <td>1.44</td>\n",
       "      <td>8.3</td>\n",
       "      <td>0.0</td>\n",
       "    </tr>\n",
       "    <tr>\n",
       "      <th>...</th>\n",
       "      <td>...</td>\n",
       "      <td>...</td>\n",
       "      <td>...</td>\n",
       "      <td>...</td>\n",
       "      <td>...</td>\n",
       "      <td>...</td>\n",
       "      <td>...</td>\n",
       "      <td>...</td>\n",
       "      <td>...</td>\n",
       "      <td>...</td>\n",
       "      <td>...</td>\n",
       "      <td>...</td>\n",
       "    </tr>\n",
       "    <tr>\n",
       "      <th>1067</th>\n",
       "      <td>Zambia</td>\n",
       "      <td>2021</td>\n",
       "      <td>19,473,125</td>\n",
       "      <td>8,800,295</td>\n",
       "      <td>10,672,830</td>\n",
       "      <td>-</td>\n",
       "      <td>61.0</td>\n",
       "      <td>34.511</td>\n",
       "      <td>6.973</td>\n",
       "      <td>4.308</td>\n",
       "      <td>40.2</td>\n",
       "      <td>3.0</td>\n",
       "    </tr>\n",
       "    <tr>\n",
       "      <th>1069</th>\n",
       "      <td>Zimbabwe</td>\n",
       "      <td>2018</td>\n",
       "      <td>15,052,184</td>\n",
       "      <td>4,848,158</td>\n",
       "      <td>10,204,026</td>\n",
       "      <td>39</td>\n",
       "      <td>61.0</td>\n",
       "      <td>32.074</td>\n",
       "      <td>7.972</td>\n",
       "      <td>3.659</td>\n",
       "      <td>38.0</td>\n",
       "      <td>2.0</td>\n",
       "    </tr>\n",
       "    <tr>\n",
       "      <th>1070</th>\n",
       "      <td>Zimbabwe</td>\n",
       "      <td>2019</td>\n",
       "      <td>15,354,608</td>\n",
       "      <td>4,945,719</td>\n",
       "      <td>10,408,889</td>\n",
       "      <td>40</td>\n",
       "      <td>61.0</td>\n",
       "      <td>31.518</td>\n",
       "      <td>8.043</td>\n",
       "      <td>3.599</td>\n",
       "      <td>37.1</td>\n",
       "      <td>2.0</td>\n",
       "    </tr>\n",
       "    <tr>\n",
       "      <th>1071</th>\n",
       "      <td>Zimbabwe</td>\n",
       "      <td>2020</td>\n",
       "      <td>15,669,666</td>\n",
       "      <td>5,052,214</td>\n",
       "      <td>10,617,452</td>\n",
       "      <td>41</td>\n",
       "      <td>61.0</td>\n",
       "      <td>31.009</td>\n",
       "      <td>8.132</td>\n",
       "      <td>3.545</td>\n",
       "      <td>36.6</td>\n",
       "      <td>2.0</td>\n",
       "    </tr>\n",
       "    <tr>\n",
       "      <th>1072</th>\n",
       "      <td>Zimbabwe</td>\n",
       "      <td>2021</td>\n",
       "      <td>15,993,524</td>\n",
       "      <td>5,166,388</td>\n",
       "      <td>10,827,136</td>\n",
       "      <td>-</td>\n",
       "      <td>59.0</td>\n",
       "      <td>30.537</td>\n",
       "      <td>9.057</td>\n",
       "      <td>3.491</td>\n",
       "      <td>35.7</td>\n",
       "      <td>2.0</td>\n",
       "    </tr>\n",
       "  </tbody>\n",
       "</table>\n",
       "<p>864 rows × 12 columns</p>\n",
       "</div>"
      ],
      "text/plain": [
       "          Country  Year Total Population Urban Population Rural Population  \\\n",
       "1     Afghanistan  2018       36,686,784        9,353,296       27,333,488   \n",
       "2     Afghanistan  2019       37,769,499        9,727,157       28,042,342   \n",
       "3     Afghanistan  2020       38,972,230       10,142,913       28,829,317   \n",
       "4     Afghanistan  2021       40,099,462       10,551,772       29,547,690   \n",
       "6         Albania  2018        2,866,376        1,728,969        1,137,407   \n",
       "...           ...   ...              ...              ...              ...   \n",
       "1067       Zambia  2021       19,473,125        8,800,295       10,672,830   \n",
       "1069     Zimbabwe  2018       15,052,184        4,848,158       10,204,026   \n",
       "1070     Zimbabwe  2019       15,354,608        4,945,719       10,408,889   \n",
       "1071     Zimbabwe  2020       15,669,666        5,052,214       10,617,452   \n",
       "1072     Zimbabwe  2021       15,993,524        5,166,388       10,827,136   \n",
       "\n",
       "     Population Density Life Expectancy  Birth Rate  Death Rate  \\\n",
       "1                    56            63.0      36.927       6.981   \n",
       "2                    58            64.0      36.466       6.791   \n",
       "3                    60            63.0      36.051       7.113   \n",
       "4                     -            62.0      35.842       7.344   \n",
       "6                   105            79.0      10.517       8.308   \n",
       "...                 ...             ...         ...         ...   \n",
       "1067                  -            61.0      34.511       6.973   \n",
       "1069                 39            61.0      32.074       7.972   \n",
       "1070                 40            61.0      31.518       8.043   \n",
       "1071                 41            61.0      31.009       8.132   \n",
       "1072                  -            59.0      30.537       9.057   \n",
       "\n",
       "     Fertility Rate Infant Mortality Rate Growth Rate  \n",
       "1             5.002                  47.8         3.0  \n",
       "2              4.87                  46.3         3.0  \n",
       "3              4.75                  44.8         3.0  \n",
       "4             4.643                  43.4         3.0  \n",
       "6              1.44                   8.3         0.0  \n",
       "...             ...                   ...         ...  \n",
       "1067          4.308                  40.2         3.0  \n",
       "1069          3.659                  38.0         2.0  \n",
       "1070          3.599                  37.1         2.0  \n",
       "1071          3.545                  36.6         2.0  \n",
       "1072          3.491                  35.7         2.0  \n",
       "\n",
       "[864 rows x 12 columns]"
      ]
     },
     "execution_count": 110,
     "metadata": {},
     "output_type": "execute_result"
    }
   ],
   "source": [
    "df1 = df[df['Total Population'] != '-']\n",
    "df1"
   ]
  },
  {
   "cell_type": "markdown",
   "id": "3cf9a714",
   "metadata": {},
   "source": [
    "<h3 style=\"margin-top: 0;\">6.\tПолучите описательную статистику по переменным (например, max(), min(), describe())</h3>"
   ]
  },
  {
   "cell_type": "code",
   "execution_count": 111,
   "id": "eb3e9b6a",
   "metadata": {},
   "outputs": [
    {
     "data": {
      "text/html": [
       "<div>\n",
       "<style scoped>\n",
       "    .dataframe tbody tr th:only-of-type {\n",
       "        vertical-align: middle;\n",
       "    }\n",
       "\n",
       "    .dataframe tbody tr th {\n",
       "        vertical-align: top;\n",
       "    }\n",
       "\n",
       "    .dataframe thead th {\n",
       "        text-align: right;\n",
       "    }\n",
       "</style>\n",
       "<table border=\"1\" class=\"dataframe\">\n",
       "  <thead>\n",
       "    <tr style=\"text-align: right;\">\n",
       "      <th></th>\n",
       "      <th>Year</th>\n",
       "      <th>Birth Rate</th>\n",
       "      <th>Death Rate</th>\n",
       "    </tr>\n",
       "  </thead>\n",
       "  <tbody>\n",
       "    <tr>\n",
       "      <th>count</th>\n",
       "      <td>864.000000</td>\n",
       "      <td>864.000000</td>\n",
       "      <td>864.000000</td>\n",
       "    </tr>\n",
       "    <tr>\n",
       "      <th>mean</th>\n",
       "      <td>2019.500000</td>\n",
       "      <td>18.548384</td>\n",
       "      <td>7.889123</td>\n",
       "    </tr>\n",
       "    <tr>\n",
       "      <th>std</th>\n",
       "      <td>1.118682</td>\n",
       "      <td>9.887518</td>\n",
       "      <td>3.041385</td>\n",
       "    </tr>\n",
       "    <tr>\n",
       "      <th>min</th>\n",
       "      <td>2018.000000</td>\n",
       "      <td>0.000000</td>\n",
       "      <td>0.000000</td>\n",
       "    </tr>\n",
       "    <tr>\n",
       "      <th>25%</th>\n",
       "      <td>2018.750000</td>\n",
       "      <td>10.500000</td>\n",
       "      <td>6.116500</td>\n",
       "    </tr>\n",
       "    <tr>\n",
       "      <th>50%</th>\n",
       "      <td>2019.500000</td>\n",
       "      <td>15.628500</td>\n",
       "      <td>7.453500</td>\n",
       "    </tr>\n",
       "    <tr>\n",
       "      <th>75%</th>\n",
       "      <td>2020.250000</td>\n",
       "      <td>25.565000</td>\n",
       "      <td>9.385000</td>\n",
       "    </tr>\n",
       "    <tr>\n",
       "      <th>max</th>\n",
       "      <td>2021.000000</td>\n",
       "      <td>46.127000</td>\n",
       "      <td>21.700000</td>\n",
       "    </tr>\n",
       "  </tbody>\n",
       "</table>\n",
       "</div>"
      ],
      "text/plain": [
       "              Year  Birth Rate  Death Rate\n",
       "count   864.000000  864.000000  864.000000\n",
       "mean   2019.500000   18.548384    7.889123\n",
       "std       1.118682    9.887518    3.041385\n",
       "min    2018.000000    0.000000    0.000000\n",
       "25%    2018.750000   10.500000    6.116500\n",
       "50%    2019.500000   15.628500    7.453500\n",
       "75%    2020.250000   25.565000    9.385000\n",
       "max    2021.000000   46.127000   21.700000"
      ]
     },
     "execution_count": 111,
     "metadata": {},
     "output_type": "execute_result"
    }
   ],
   "source": [
    "df1.describe()"
   ]
  },
  {
   "cell_type": "markdown",
   "id": "65820dcb",
   "metadata": {},
   "source": [
    "<h3 style=\"margin-top: 0;\">7. Выполните сортировку данных по нескольким критериям</h3>"
   ]
  },
  {
   "cell_type": "code",
   "execution_count": 112,
   "id": "b73cf447",
   "metadata": {},
   "outputs": [
    {
     "data": {
      "text/html": [
       "<div>\n",
       "<style scoped>\n",
       "    .dataframe tbody tr th:only-of-type {\n",
       "        vertical-align: middle;\n",
       "    }\n",
       "\n",
       "    .dataframe tbody tr th {\n",
       "        vertical-align: top;\n",
       "    }\n",
       "\n",
       "    .dataframe thead th {\n",
       "        text-align: right;\n",
       "    }\n",
       "</style>\n",
       "<table border=\"1\" class=\"dataframe\">\n",
       "  <thead>\n",
       "    <tr style=\"text-align: right;\">\n",
       "      <th></th>\n",
       "      <th>Country</th>\n",
       "      <th>Year</th>\n",
       "      <th>Total Population</th>\n",
       "      <th>Urban Population</th>\n",
       "      <th>Rural Population</th>\n",
       "      <th>Population Density</th>\n",
       "      <th>Life Expectancy</th>\n",
       "      <th>Birth Rate</th>\n",
       "      <th>Death Rate</th>\n",
       "      <th>Fertility Rate</th>\n",
       "      <th>Infant Mortality Rate</th>\n",
       "      <th>Growth Rate</th>\n",
       "    </tr>\n",
       "  </thead>\n",
       "  <tbody>\n",
       "    <tr>\n",
       "      <th>202</th>\n",
       "      <td>China</td>\n",
       "      <td>2018</td>\n",
       "      <td>1402760000</td>\n",
       "      <td>829,760,595</td>\n",
       "      <td>572,999,405</td>\n",
       "      <td>149</td>\n",
       "      <td>78.0</td>\n",
       "      <td>10.860</td>\n",
       "      <td>7.080</td>\n",
       "      <td>1.554</td>\n",
       "      <td>6.4</td>\n",
       "      <td>0.0</td>\n",
       "    </tr>\n",
       "    <tr>\n",
       "      <th>432</th>\n",
       "      <td>India</td>\n",
       "      <td>2018</td>\n",
       "      <td>1369003306</td>\n",
       "      <td>465,871,825</td>\n",
       "      <td>903,131,481</td>\n",
       "      <td>460</td>\n",
       "      <td>71.0</td>\n",
       "      <td>17.651</td>\n",
       "      <td>6.644</td>\n",
       "      <td>2.177</td>\n",
       "      <td>29.8</td>\n",
       "      <td>1.0</td>\n",
       "    </tr>\n",
       "    <tr>\n",
       "      <th>1019</th>\n",
       "      <td>United States</td>\n",
       "      <td>2018</td>\n",
       "      <td>326838199</td>\n",
       "      <td>268,844,029</td>\n",
       "      <td>57,994,170</td>\n",
       "      <td>36</td>\n",
       "      <td>79.0</td>\n",
       "      <td>11.600</td>\n",
       "      <td>8.678</td>\n",
       "      <td>1.73</td>\n",
       "      <td>5.6</td>\n",
       "      <td>1.0</td>\n",
       "    </tr>\n",
       "    <tr>\n",
       "      <th>437</th>\n",
       "      <td>Indonesia</td>\n",
       "      <td>2018</td>\n",
       "      <td>267066843</td>\n",
       "      <td>147,754,731</td>\n",
       "      <td>119,312,112</td>\n",
       "      <td>142</td>\n",
       "      <td>70.0</td>\n",
       "      <td>17.179</td>\n",
       "      <td>7.496</td>\n",
       "      <td>2.234</td>\n",
       "      <td>20.8</td>\n",
       "      <td>1.0</td>\n",
       "    </tr>\n",
       "    <tr>\n",
       "      <th>725</th>\n",
       "      <td>Pakistan</td>\n",
       "      <td>2018</td>\n",
       "      <td>219731479</td>\n",
       "      <td>80,566,744</td>\n",
       "      <td>139,164,735</td>\n",
       "      <td>285</td>\n",
       "      <td>66.0</td>\n",
       "      <td>28.594</td>\n",
       "      <td>6.843</td>\n",
       "      <td>3.685</td>\n",
       "      <td>57.4</td>\n",
       "      <td>2.0</td>\n",
       "    </tr>\n",
       "    <tr>\n",
       "      <th>...</th>\n",
       "      <td>...</td>\n",
       "      <td>...</td>\n",
       "      <td>...</td>\n",
       "      <td>...</td>\n",
       "      <td>...</td>\n",
       "      <td>...</td>\n",
       "      <td>...</td>\n",
       "      <td>...</td>\n",
       "      <td>...</td>\n",
       "      <td>...</td>\n",
       "      <td>...</td>\n",
       "      <td>...</td>\n",
       "    </tr>\n",
       "    <tr>\n",
       "      <th>907</th>\n",
       "      <td>St. Martin (French Part)</td>\n",
       "      <td>2021</td>\n",
       "      <td>31948</td>\n",
       "      <td>-</td>\n",
       "      <td>-</td>\n",
       "      <td>-</td>\n",
       "      <td>80.0</td>\n",
       "      <td>15.053</td>\n",
       "      <td>4.911</td>\n",
       "      <td>2.415</td>\n",
       "      <td>-</td>\n",
       "      <td>-2.0</td>\n",
       "    </tr>\n",
       "    <tr>\n",
       "      <th>137</th>\n",
       "      <td>British Virgin Islands</td>\n",
       "      <td>2021</td>\n",
       "      <td>31122</td>\n",
       "      <td>15,225</td>\n",
       "      <td>15,897</td>\n",
       "      <td>-</td>\n",
       "      <td>74.0</td>\n",
       "      <td>7.634</td>\n",
       "      <td>7.613</td>\n",
       "      <td>1.005</td>\n",
       "      <td>9.9</td>\n",
       "      <td>1.0</td>\n",
       "    </tr>\n",
       "    <tr>\n",
       "      <th>733</th>\n",
       "      <td>Palau</td>\n",
       "      <td>2021</td>\n",
       "      <td>18024</td>\n",
       "      <td>14,686</td>\n",
       "      <td>3,338</td>\n",
       "      <td>-</td>\n",
       "      <td>-</td>\n",
       "      <td>13.400</td>\n",
       "      <td>10.200</td>\n",
       "      <td>0.0</td>\n",
       "      <td>15.1</td>\n",
       "      <td>0.0</td>\n",
       "    </tr>\n",
       "    <tr>\n",
       "      <th>664</th>\n",
       "      <td>Nauru</td>\n",
       "      <td>2021</td>\n",
       "      <td>12511</td>\n",
       "      <td>12,511</td>\n",
       "      <td>-</td>\n",
       "      <td>-</td>\n",
       "      <td>64.0</td>\n",
       "      <td>27.560</td>\n",
       "      <td>6.633</td>\n",
       "      <td>3.519</td>\n",
       "      <td>23.2</td>\n",
       "      <td>2.0</td>\n",
       "    </tr>\n",
       "    <tr>\n",
       "      <th>997</th>\n",
       "      <td>Tuvalu</td>\n",
       "      <td>2021</td>\n",
       "      <td>11204</td>\n",
       "      <td>7,259</td>\n",
       "      <td>3,945</td>\n",
       "      <td>-</td>\n",
       "      <td>65.0</td>\n",
       "      <td>23.484</td>\n",
       "      <td>10.159</td>\n",
       "      <td>3.163</td>\n",
       "      <td>18.1</td>\n",
       "      <td>1.0</td>\n",
       "    </tr>\n",
       "  </tbody>\n",
       "</table>\n",
       "<p>864 rows × 12 columns</p>\n",
       "</div>"
      ],
      "text/plain": [
       "                       Country  Year Total Population Urban Population  \\\n",
       "202                      China  2018       1402760000      829,760,595   \n",
       "432                      India  2018       1369003306      465,871,825   \n",
       "1019             United States  2018        326838199      268,844,029   \n",
       "437                  Indonesia  2018        267066843      147,754,731   \n",
       "725                   Pakistan  2018        219731479       80,566,744   \n",
       "...                        ...   ...              ...              ...   \n",
       "907   St. Martin (French Part)  2021            31948                -   \n",
       "137     British Virgin Islands  2021            31122           15,225   \n",
       "733                      Palau  2021            18024           14,686   \n",
       "664                      Nauru  2021            12511           12,511   \n",
       "997                     Tuvalu  2021            11204            7,259   \n",
       "\n",
       "     Rural Population Population Density Life Expectancy  Birth Rate  \\\n",
       "202       572,999,405                149            78.0      10.860   \n",
       "432       903,131,481                460            71.0      17.651   \n",
       "1019       57,994,170                 36            79.0      11.600   \n",
       "437       119,312,112                142            70.0      17.179   \n",
       "725       139,164,735                285            66.0      28.594   \n",
       "...               ...                ...             ...         ...   \n",
       "907                 -                  -            80.0      15.053   \n",
       "137            15,897                  -            74.0       7.634   \n",
       "733             3,338                  -               -      13.400   \n",
       "664                 -                  -            64.0      27.560   \n",
       "997             3,945                  -            65.0      23.484   \n",
       "\n",
       "      Death Rate Fertility Rate Infant Mortality Rate Growth Rate  \n",
       "202        7.080          1.554                   6.4         0.0  \n",
       "432        6.644          2.177                  29.8         1.0  \n",
       "1019       8.678           1.73                   5.6         1.0  \n",
       "437        7.496          2.234                  20.8         1.0  \n",
       "725        6.843          3.685                  57.4         2.0  \n",
       "...          ...            ...                   ...         ...  \n",
       "907        4.911          2.415                     -        -2.0  \n",
       "137        7.613          1.005                   9.9         1.0  \n",
       "733       10.200            0.0                  15.1         0.0  \n",
       "664        6.633          3.519                  23.2         2.0  \n",
       "997       10.159          3.163                  18.1         1.0  \n",
       "\n",
       "[864 rows x 12 columns]"
      ]
     },
     "execution_count": 112,
     "metadata": {},
     "output_type": "execute_result"
    }
   ],
   "source": [
    "df1.loc[:, 'Total Population'] = df1['Total Population'].str.strip()\n",
    "df1.loc[:, 'Total Population'] = df1['Total Population'].str.replace(',', '')\n",
    "df1.loc[:, 'Total Population'] = pd.to_numeric(\n",
    "    df1['Total Population'], errors='coerce')\n",
    "\n",
    "df_sorted = df1.sort_values(\n",
    "    by=[\"Year\", \"Total Population\"], ascending=[True, False])\n",
    "df_sorted"
   ]
  },
  {
   "cell_type": "markdown",
   "id": "f8b191ce",
   "metadata": {},
   "source": [
    "<h3 style=\"margin-top: 0;\">8. Выведите название страны, которая имеет максимальную численность населения</h3>"
   ]
  },
  {
   "cell_type": "code",
   "execution_count": 113,
   "id": "8d812b40",
   "metadata": {},
   "outputs": [
    {
     "name": "stdout",
     "output_type": "stream",
     "text": [
      "Answer is China in 2021 with 1412360000 people\n"
     ]
    }
   ],
   "source": [
    "df_sorted_byP = df1.sort_values(by=\"Total Population\", ascending=True)\n",
    "country_max = df_sorted_byP.iloc[-1][\"Country\"]\n",
    "country_year = df_sorted_byP.iloc[-1][\"Year\"]\n",
    "country_p = df_sorted_byP.iloc[-1][\"Total Population\"]\n",
    "print(f'Answer is {country_max} in {country_year} with {country_p} people')"
   ]
  },
  {
   "cell_type": "markdown",
   "id": "8a05ffd8",
   "metadata": {},
   "source": [
    "<h3 style=\"margin-top: 0;\">9. Выведите название страны, которая имеет минимальную численность населения</h3>"
   ]
  },
  {
   "cell_type": "code",
   "execution_count": 114,
   "id": "bd71aca8",
   "metadata": {},
   "outputs": [
    {
     "name": "stdout",
     "output_type": "stream",
     "text": [
      "Answer is Tuvalu in 2018 with 10865 people\n"
     ]
    }
   ],
   "source": [
    "country_min = df_sorted_byP.iloc[0][\"Country\"]\n",
    "country_year_min = df_sorted_byP.iloc[0][\"Year\"]\n",
    "country_m = df_sorted_byP.iloc[0][\"Total Population\"]\n",
    "print(f'Answer is {country_min} in {country_year_min} with {country_m} people')"
   ]
  },
  {
   "cell_type": "markdown",
   "id": "db331d64",
   "metadata": {},
   "source": [
    "<h3 style=\"margin-top: 0;\">10. Экспорт фрейма в MS Excel</h3>"
   ]
  },
  {
   "cell_type": "code",
   "execution_count": 116,
   "id": "b227e085",
   "metadata": {},
   "outputs": [],
   "source": [
    "df1.to_excel(\"date_frame.xlsx\", index=False, engine='openpyxl')"
   ]
  }
 ],
 "metadata": {
  "kernelspec": {
   "display_name": "Python 3 (ipykernel)",
   "language": "python",
   "name": "python3"
  },
  "language_info": {
   "codemirror_mode": {
    "name": "ipython",
    "version": 3
   },
   "file_extension": ".py",
   "mimetype": "text/x-python",
   "name": "python",
   "nbconvert_exporter": "python",
   "pygments_lexer": "ipython3",
   "version": "3.12.0"
  },
  "panel-cell-order": [
   "85040543-d11a-4a93-88e2-9e79f03411cb"
  ]
 },
 "nbformat": 4,
 "nbformat_minor": 5
}
